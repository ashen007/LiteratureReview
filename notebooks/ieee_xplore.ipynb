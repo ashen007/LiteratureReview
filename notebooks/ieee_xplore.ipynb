{
 "cells": [
  {
   "cell_type": "code",
   "execution_count": 1,
   "metadata": {
    "collapsed": true
   },
   "outputs": [],
   "source": [
    "from models.ieee import IEEE"
   ]
  },
  {
   "cell_type": "markdown",
   "source": [
    "## Base urls for research databases"
   ],
   "metadata": {
    "collapsed": false
   }
  },
  {
   "cell_type": "code",
   "execution_count": 2,
   "outputs": [],
   "source": [
    "ieee_xplore = \"https://ieeexplore.ieee.org\"\n",
    "page_no = 1\n",
    "s_year = 2015\n",
    "e_year = 2023"
   ],
   "metadata": {
    "collapsed": false
   }
  },
  {
   "cell_type": "markdown",
   "source": [
    "## search term (image segmentation AND u-net AND remote sensing AND forest)"
   ],
   "metadata": {
    "collapsed": false
   }
  },
  {
   "cell_type": "code",
   "execution_count": 3,
   "outputs": [],
   "source": [
    "search_text = \"\"\"(\"All Metadata\":image segmentation) AND (\"All Metadata\":u-net) AND (\"All Metadata\":remote sensing) AND (\"All Metadata\":forest)\"\"\"\n",
    "\"\"\"\n",
    "(\"All Metadata\":image segmentation) AND (\"Author Keywords\":u-net)\n",
    "\"\"\"\n",
    "search_1 = IEEE(search_text)"
   ],
   "metadata": {
    "collapsed": false
   }
  },
  {
   "cell_type": "code",
   "execution_count": 4,
   "outputs": [],
   "source": [
    "search_1.get_links_to_papers()"
   ],
   "metadata": {
    "collapsed": false
   }
  },
  {
   "cell_type": "code",
   "execution_count": 5,
   "outputs": [],
   "source": [
    "search_1.to_json('../data/search_term_1.json')"
   ],
   "metadata": {
    "collapsed": false
   }
  },
  {
   "cell_type": "markdown",
   "source": [
    "## search term (image segmentation AND u-net AND remote sensing)"
   ],
   "metadata": {
    "collapsed": false
   }
  },
  {
   "cell_type": "code",
   "execution_count": 6,
   "outputs": [],
   "source": [
    "search_text_1 = \"image segmentation AND u-net AND remote sensing\"\n",
    "search_2 = IEEE(search_text_1)"
   ],
   "metadata": {
    "collapsed": false
   }
  },
  {
   "cell_type": "code",
   "execution_count": 7,
   "outputs": [
    {
     "name": "stdout",
     "output_type": "stream",
     "text": [
      "reading page: 13 from 13\r"
     ]
    }
   ],
   "source": [
    "search_2.get_links_to_papers()"
   ],
   "metadata": {
    "collapsed": false
   }
  },
  {
   "cell_type": "code",
   "execution_count": 8,
   "outputs": [],
   "source": [
    "search_2.to_json('../data/search_term_2.json')"
   ],
   "metadata": {
    "collapsed": false
   }
  },
  {
   "cell_type": "markdown",
   "source": [
    "## search term (semantic segmentation AND u-net architecture AND forest)"
   ],
   "metadata": {
    "collapsed": false
   }
  },
  {
   "cell_type": "code",
   "execution_count": 9,
   "outputs": [],
   "source": [
    "search_text_2 = \"semantic segmentation AND u-net architecture AND forest\"\n",
    "search_3 = IEEE(search_text_2)"
   ],
   "metadata": {
    "collapsed": false
   }
  },
  {
   "cell_type": "code",
   "execution_count": 10,
   "outputs": [],
   "source": [
    "search_3.get_links_to_papers()"
   ],
   "metadata": {
    "collapsed": false
   }
  },
  {
   "cell_type": "code",
   "execution_count": 11,
   "outputs": [],
   "source": [
    "search_3.to_json('../data/search_term_3.json')"
   ],
   "metadata": {
    "collapsed": false
   }
  }
 ],
 "metadata": {
  "kernelspec": {
   "display_name": "Python 3",
   "language": "python",
   "name": "python3"
  },
  "language_info": {
   "codemirror_mode": {
    "name": "ipython",
    "version": 2
   },
   "file_extension": ".py",
   "mimetype": "text/x-python",
   "name": "python",
   "nbconvert_exporter": "python",
   "pygments_lexer": "ipython2",
   "version": "2.7.6"
  }
 },
 "nbformat": 4,
 "nbformat_minor": 0
}
