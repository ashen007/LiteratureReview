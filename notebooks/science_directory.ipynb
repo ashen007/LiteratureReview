{
 "cells": [
  {
   "cell_type": "code",
   "execution_count": 1,
   "metadata": {
    "collapsed": true
   },
   "outputs": [],
   "source": [
    "import time\n",
    "import numpy as np\n",
    "from selenium import webdriver\n",
    "from selenium.webdriver.common.keys import Keys\n",
    "from selenium.webdriver.support import expected_conditions as EC\n",
    "from selenium.webdriver.chrome.options import Options\n",
    "from selenium.webdriver.common.by import By\n",
    "from selenium.webdriver.support.wait import WebDriverWait"
   ]
  },
  {
   "cell_type": "code",
   "execution_count": 2,
   "outputs": [],
   "source": [
    "options = Options()\n",
    "options.binary_location = 'C:\\\\Program Files\\\\Google\\\\Chrome\\\\Application\\\\chrome.exe'"
   ],
   "metadata": {
    "collapsed": false
   }
  },
  {
   "cell_type": "code",
   "execution_count": 3,
   "outputs": [
    {
     "name": "stderr",
     "output_type": "stream",
     "text": [
      "C:\\Users\\hewar\\AppData\\Local\\Temp/ipykernel_10780/2342806894.py:1: DeprecationWarning: executable_path has been deprecated, please pass in a Service object\n",
      "  driver = webdriver.Chrome(chrome_options=options,\n",
      "C:\\Users\\hewar\\AppData\\Local\\Temp/ipykernel_10780/2342806894.py:1: DeprecationWarning: use options instead of chrome_options\n",
      "  driver = webdriver.Chrome(chrome_options=options,\n"
     ]
    }
   ],
   "source": [
    "driver = webdriver.Chrome(chrome_options=options,\n",
    "                          executable_path='D:\\\\ML & DL\\\\chromedriver.exe')"
   ],
   "metadata": {
    "collapsed": false
   }
  },
  {
   "cell_type": "code",
   "execution_count": 5,
   "outputs": [],
   "source": [
    "origin = \"https://www.sciencedirect.com/search\"\n",
    "date_filter = \"?date=2015-2023\"\n",
    "results_in_page = \"&show=100\"\n",
    "query_text = \"&qs=semantic%20segmentation%3Bu-net%3Bremote%20sensing%3Bforest%3B\"\n",
    "article_type = \"&articleTypes=FLA\""
   ],
   "metadata": {
    "collapsed": false
   }
  },
  {
   "cell_type": "code",
   "execution_count": 7,
   "outputs": [
    {
     "ename": "NoSuchElementException",
     "evalue": "Message: no such element: Unable to locate element: {\"method\":\"css selector\",\"selector\":\".search-body-results-text\"}\n  (Session info: chrome=112.0.5615.138)\nStacktrace:\nBacktrace:\n\tGetHandleVerifier [0x010EDCE3+50899]\n\t(No symbol) [0x0107E111]\n\t(No symbol) [0x00F85588]\n\t(No symbol) [0x00FB08F9]\n\t(No symbol) [0x00FB0AFB]\n\t(No symbol) [0x00FDF902]\n\t(No symbol) [0x00FCB944]\n\t(No symbol) [0x00FDE01C]\n\t(No symbol) [0x00FCB6F6]\n\t(No symbol) [0x00FA7708]\n\t(No symbol) [0x00FA886D]\n\tGetHandleVerifier [0x01353EAE+2566302]\n\tGetHandleVerifier [0x013892B1+2784417]\n\tGetHandleVerifier [0x0138327C+2759788]\n\tGetHandleVerifier [0x01185740+672048]\n\t(No symbol) [0x01088872]\n\t(No symbol) [0x010841C8]\n\t(No symbol) [0x010842AB]\n\t(No symbol) [0x010771B7]\n\tBaseThreadInitThunk [0x769D0099+25]\n\tRtlGetAppContainerNamedObjectPath [0x776B7B6E+286]\n\tRtlGetAppContainerNamedObjectPath [0x776B7B3E+238]\n",
     "output_type": "error",
     "traceback": [
      "\u001B[1;31m---------------------------------------------------------------------------\u001B[0m",
      "\u001B[1;31mNoSuchElementException\u001B[0m                    Traceback (most recent call last)",
      "\u001B[1;32m~\\AppData\\Local\\Temp/ipykernel_10780/3115043040.py\u001B[0m in \u001B[0;36m<module>\u001B[1;34m\u001B[0m\n\u001B[0;32m      2\u001B[0m \u001B[0mdriver\u001B[0m\u001B[1;33m.\u001B[0m\u001B[0mget\u001B[0m\u001B[1;33m(\u001B[0m\u001B[0mlink\u001B[0m\u001B[1;33m)\u001B[0m\u001B[1;33m\u001B[0m\u001B[1;33m\u001B[0m\u001B[0m\n\u001B[0;32m      3\u001B[0m \u001B[1;33m\u001B[0m\u001B[0m\n\u001B[1;32m----> 4\u001B[1;33m \u001B[0mresult_count\u001B[0m \u001B[1;33m=\u001B[0m \u001B[0mint\u001B[0m\u001B[1;33m(\u001B[0m\u001B[0mdriver\u001B[0m\u001B[1;33m.\u001B[0m\u001B[0mfind_element\u001B[0m\u001B[1;33m(\u001B[0m\u001B[0mBy\u001B[0m\u001B[1;33m.\u001B[0m\u001B[0mCLASS_NAME\u001B[0m\u001B[1;33m,\u001B[0m \u001B[0mvalue\u001B[0m\u001B[1;33m=\u001B[0m\u001B[1;34m\"search-body-results-text\"\u001B[0m\u001B[1;33m)\u001B[0m\u001B[1;33m.\u001B[0m\u001B[0mtext\u001B[0m\u001B[1;33m.\u001B[0m\u001B[0msplit\u001B[0m\u001B[1;33m(\u001B[0m\u001B[1;34m' '\u001B[0m\u001B[1;33m)\u001B[0m\u001B[1;33m[\u001B[0m\u001B[1;36m0\u001B[0m\u001B[1;33m]\u001B[0m\u001B[1;33m)\u001B[0m\u001B[1;33m\u001B[0m\u001B[1;33m\u001B[0m\u001B[0m\n\u001B[0m\u001B[0;32m      5\u001B[0m \u001B[0mlink_list\u001B[0m \u001B[1;33m=\u001B[0m \u001B[1;33m{\u001B[0m\u001B[1;33m}\u001B[0m\u001B[1;33m\u001B[0m\u001B[1;33m\u001B[0m\u001B[0m\n\u001B[0;32m      6\u001B[0m \u001B[0mi\u001B[0m \u001B[1;33m=\u001B[0m \u001B[0mresult_count\u001B[0m \u001B[1;33m/\u001B[0m \u001B[1;36m100\u001B[0m\u001B[1;33m\u001B[0m\u001B[1;33m\u001B[0m\u001B[0m\n",
      "\u001B[1;32m~\\AppData\\Roaming\\Python\\Python39\\site-packages\\selenium\\webdriver\\remote\\webdriver.py\u001B[0m in \u001B[0;36mfind_element\u001B[1;34m(self, by, value)\u001B[0m\n\u001B[0;32m    855\u001B[0m             \u001B[0mvalue\u001B[0m \u001B[1;33m=\u001B[0m \u001B[1;34m'[name=\"%s\"]'\u001B[0m \u001B[1;33m%\u001B[0m \u001B[0mvalue\u001B[0m\u001B[1;33m\u001B[0m\u001B[1;33m\u001B[0m\u001B[0m\n\u001B[0;32m    856\u001B[0m \u001B[1;33m\u001B[0m\u001B[0m\n\u001B[1;32m--> 857\u001B[1;33m         return self.execute(Command.FIND_ELEMENT, {\n\u001B[0m\u001B[0;32m    858\u001B[0m             \u001B[1;34m'using'\u001B[0m\u001B[1;33m:\u001B[0m \u001B[0mby\u001B[0m\u001B[1;33m,\u001B[0m\u001B[1;33m\u001B[0m\u001B[1;33m\u001B[0m\u001B[0m\n\u001B[0;32m    859\u001B[0m             'value': value})['value']\n",
      "\u001B[1;32m~\\AppData\\Roaming\\Python\\Python39\\site-packages\\selenium\\webdriver\\remote\\webdriver.py\u001B[0m in \u001B[0;36mexecute\u001B[1;34m(self, driver_command, params)\u001B[0m\n\u001B[0;32m    433\u001B[0m         \u001B[0mresponse\u001B[0m \u001B[1;33m=\u001B[0m \u001B[0mself\u001B[0m\u001B[1;33m.\u001B[0m\u001B[0mcommand_executor\u001B[0m\u001B[1;33m.\u001B[0m\u001B[0mexecute\u001B[0m\u001B[1;33m(\u001B[0m\u001B[0mdriver_command\u001B[0m\u001B[1;33m,\u001B[0m \u001B[0mparams\u001B[0m\u001B[1;33m)\u001B[0m\u001B[1;33m\u001B[0m\u001B[1;33m\u001B[0m\u001B[0m\n\u001B[0;32m    434\u001B[0m         \u001B[1;32mif\u001B[0m \u001B[0mresponse\u001B[0m\u001B[1;33m:\u001B[0m\u001B[1;33m\u001B[0m\u001B[1;33m\u001B[0m\u001B[0m\n\u001B[1;32m--> 435\u001B[1;33m             \u001B[0mself\u001B[0m\u001B[1;33m.\u001B[0m\u001B[0merror_handler\u001B[0m\u001B[1;33m.\u001B[0m\u001B[0mcheck_response\u001B[0m\u001B[1;33m(\u001B[0m\u001B[0mresponse\u001B[0m\u001B[1;33m)\u001B[0m\u001B[1;33m\u001B[0m\u001B[1;33m\u001B[0m\u001B[0m\n\u001B[0m\u001B[0;32m    436\u001B[0m             response['value'] = self._unwrap_value(\n\u001B[0;32m    437\u001B[0m                 response.get('value', None))\n",
      "\u001B[1;32m~\\AppData\\Roaming\\Python\\Python39\\site-packages\\selenium\\webdriver\\remote\\errorhandler.py\u001B[0m in \u001B[0;36mcheck_response\u001B[1;34m(self, response)\u001B[0m\n\u001B[0;32m    245\u001B[0m                 \u001B[0malert_text\u001B[0m \u001B[1;33m=\u001B[0m \u001B[0mvalue\u001B[0m\u001B[1;33m[\u001B[0m\u001B[1;34m'alert'\u001B[0m\u001B[1;33m]\u001B[0m\u001B[1;33m.\u001B[0m\u001B[0mget\u001B[0m\u001B[1;33m(\u001B[0m\u001B[1;34m'text'\u001B[0m\u001B[1;33m)\u001B[0m\u001B[1;33m\u001B[0m\u001B[1;33m\u001B[0m\u001B[0m\n\u001B[0;32m    246\u001B[0m             \u001B[1;32mraise\u001B[0m \u001B[0mexception_class\u001B[0m\u001B[1;33m(\u001B[0m\u001B[0mmessage\u001B[0m\u001B[1;33m,\u001B[0m \u001B[0mscreen\u001B[0m\u001B[1;33m,\u001B[0m \u001B[0mstacktrace\u001B[0m\u001B[1;33m,\u001B[0m \u001B[0malert_text\u001B[0m\u001B[1;33m)\u001B[0m  \u001B[1;31m# type: ignore[call-arg]  # mypy is not smart enough here\u001B[0m\u001B[1;33m\u001B[0m\u001B[1;33m\u001B[0m\u001B[0m\n\u001B[1;32m--> 247\u001B[1;33m         \u001B[1;32mraise\u001B[0m \u001B[0mexception_class\u001B[0m\u001B[1;33m(\u001B[0m\u001B[0mmessage\u001B[0m\u001B[1;33m,\u001B[0m \u001B[0mscreen\u001B[0m\u001B[1;33m,\u001B[0m \u001B[0mstacktrace\u001B[0m\u001B[1;33m)\u001B[0m\u001B[1;33m\u001B[0m\u001B[1;33m\u001B[0m\u001B[0m\n\u001B[0m\u001B[0;32m    248\u001B[0m \u001B[1;33m\u001B[0m\u001B[0m\n\u001B[0;32m    249\u001B[0m     \u001B[1;32mdef\u001B[0m \u001B[0m_value_or_default\u001B[0m\u001B[1;33m(\u001B[0m\u001B[0mself\u001B[0m\u001B[1;33m,\u001B[0m \u001B[0mobj\u001B[0m\u001B[1;33m:\u001B[0m \u001B[0mMapping\u001B[0m\u001B[1;33m[\u001B[0m\u001B[0m_KT\u001B[0m\u001B[1;33m,\u001B[0m \u001B[0m_VT\u001B[0m\u001B[1;33m]\u001B[0m\u001B[1;33m,\u001B[0m \u001B[0mkey\u001B[0m\u001B[1;33m:\u001B[0m \u001B[0m_KT\u001B[0m\u001B[1;33m,\u001B[0m \u001B[0mdefault\u001B[0m\u001B[1;33m:\u001B[0m \u001B[0m_VT\u001B[0m\u001B[1;33m)\u001B[0m \u001B[1;33m->\u001B[0m \u001B[0m_VT\u001B[0m\u001B[1;33m:\u001B[0m\u001B[1;33m\u001B[0m\u001B[1;33m\u001B[0m\u001B[0m\n",
      "\u001B[1;31mNoSuchElementException\u001B[0m: Message: no such element: Unable to locate element: {\"method\":\"css selector\",\"selector\":\".search-body-results-text\"}\n  (Session info: chrome=112.0.5615.138)\nStacktrace:\nBacktrace:\n\tGetHandleVerifier [0x010EDCE3+50899]\n\t(No symbol) [0x0107E111]\n\t(No symbol) [0x00F85588]\n\t(No symbol) [0x00FB08F9]\n\t(No symbol) [0x00FB0AFB]\n\t(No symbol) [0x00FDF902]\n\t(No symbol) [0x00FCB944]\n\t(No symbol) [0x00FDE01C]\n\t(No symbol) [0x00FCB6F6]\n\t(No symbol) [0x00FA7708]\n\t(No symbol) [0x00FA886D]\n\tGetHandleVerifier [0x01353EAE+2566302]\n\tGetHandleVerifier [0x013892B1+2784417]\n\tGetHandleVerifier [0x0138327C+2759788]\n\tGetHandleVerifier [0x01185740+672048]\n\t(No symbol) [0x01088872]\n\t(No symbol) [0x010841C8]\n\t(No symbol) [0x010842AB]\n\t(No symbol) [0x010771B7]\n\tBaseThreadInitThunk [0x769D0099+25]\n\tRtlGetAppContainerNamedObjectPath [0x776B7B6E+286]\n\tRtlGetAppContainerNamedObjectPath [0x776B7B3E+238]\n"
     ]
    }
   ],
   "source": [
    "link = ''.join([origin, date_filter, query_text, results_in_page, article_type])\n",
    "driver.get(link)\n",
    "\n",
    "result_count = int(driver.find_element(By.CLASS_NAME, value=\"search-body-results-text\").text.split(' ')[0])\n",
    "link_list = {}\n",
    "i = result_count / 100\n",
    "\n",
    "# if i > 1:\n",
    "#     p_count = np.round(i)\n",
    "#\n",
    "#     for j in range(0, p_count):\n",
    "#         offset = f\"&offset={j * 100}\"\n",
    "#         link = ''.join([origin, date_filter, query_text, results_in_page, article_type])\n",
    "#\n",
    "#         for title, article in zip(driver.find_elements(By.CLASS_NAME, value=\"result-list-title-link\"),\n",
    "#                                   driver.find_elements(By.CLASS_NAME, value=\"article-type\")):\n",
    "#             link_list[title.get_attribute('id')] = [title.get_attribute('href'), article.text]\n",
    "\n",
    "print(i)"
   ],
   "metadata": {
    "collapsed": false
   }
  },
  {
   "cell_type": "code",
   "execution_count": 6,
   "outputs": [
    {
     "data": {
      "text/plain": "{'title-S095070512300165X': ['https://www.sciencedirect.com/science/article/pii/S095070512300165X',\n  'Research article'],\n 'title-S004579062200461X': ['https://www.sciencedirect.com/science/article/pii/S004579062200461X',\n  'Research article'],\n 'title-S2667393223000029': ['https://www.sciencedirect.com/science/article/pii/S2667393223000029',\n  'Research article'],\n 'title-S0098300421002545': ['https://www.sciencedirect.com/science/article/pii/S0098300421002545',\n  'Research article'],\n 'title-S0924271622001654': ['https://www.sciencedirect.com/science/article/pii/S0924271622001654',\n  'Research article'],\n 'title-S1569843223001164': ['https://www.sciencedirect.com/science/article/pii/S1569843223001164',\n  'Research article'],\n 'title-S156849462200744X': ['https://www.sciencedirect.com/science/article/pii/S156849462200744X',\n  'Research article'],\n 'title-S1574954123001073': ['https://www.sciencedirect.com/science/article/pii/S1574954123001073',\n  'Research article'],\n 'title-S1574954122001959': ['https://www.sciencedirect.com/science/article/pii/S1574954122001959',\n  'Research article'],\n 'title-S2405896321002238': ['https://www.sciencedirect.com/science/article/pii/S2405896321002238',\n  'Research article'],\n 'title-S0957417422014932': ['https://www.sciencedirect.com/science/article/pii/S0957417422014932',\n  'Research article'],\n 'title-S0952197622002287': ['https://www.sciencedirect.com/science/article/pii/S0952197622002287',\n  'Research article'],\n 'title-S1574954121000704': ['https://www.sciencedirect.com/science/article/pii/S1574954121000704',\n  'Research article'],\n 'title-S1568494622003465': ['https://www.sciencedirect.com/science/article/pii/S1568494622003465',\n  'Research article'],\n 'title-S096456912200357X': ['https://www.sciencedirect.com/science/article/pii/S096456912200357X',\n  'Research article'],\n 'title-S0098300421001552': ['https://www.sciencedirect.com/science/article/pii/S0098300421001552',\n  'Research article'],\n 'title-S0924271622003410': ['https://www.sciencedirect.com/science/article/pii/S0924271622003410',\n  'Research article'],\n 'title-S2667393221000119': ['https://www.sciencedirect.com/science/article/pii/S2667393221000119',\n  'Research article'],\n 'title-S0010482522005601': ['https://www.sciencedirect.com/science/article/pii/S0010482522005601',\n  'Research article'],\n 'title-S0924271622001095': ['https://www.sciencedirect.com/science/article/pii/S0924271622001095',\n  'Research article'],\n 'title-S1574954121002211': ['https://www.sciencedirect.com/science/article/pii/S1574954121002211',\n  'Research article'],\n 'title-S0924271622002210': ['https://www.sciencedirect.com/science/article/pii/S0924271622002210',\n  'Research article'],\n 'title-S0924271621000502': ['https://www.sciencedirect.com/science/article/pii/S0924271621000502',\n  'Research article'],\n 'title-S1568494621004385': ['https://www.sciencedirect.com/science/article/pii/S1568494621004385',\n  'Research article'],\n 'title-S0303243422001118': ['https://www.sciencedirect.com/science/article/pii/S0303243422001118',\n  'Research article'],\n 'title-S1569843222001455': ['https://www.sciencedirect.com/science/article/pii/S1569843222001455',\n  'Research article'],\n 'title-S0924271622003422': ['https://www.sciencedirect.com/science/article/pii/S0924271622003422',\n  'Research article'],\n 'title-S0168169922005853': ['https://www.sciencedirect.com/science/article/pii/S0168169922005853',\n  'Research article'],\n 'title-S0098300422000097': ['https://www.sciencedirect.com/science/article/pii/S0098300422000097',\n  'Research article'],\n 'title-S0924271622003355': ['https://www.sciencedirect.com/science/article/pii/S0924271622003355',\n  'Research article'],\n 'title-S1470160X22004320': ['https://www.sciencedirect.com/science/article/pii/S1470160X22004320',\n  'Research article'],\n 'title-S0048969723003728': ['https://www.sciencedirect.com/science/article/pii/S0048969723003728',\n  'Research article'],\n 'title-S0048969722029230': ['https://www.sciencedirect.com/science/article/pii/S0048969722029230',\n  'Research article'],\n 'title-S0924271620300149': ['https://www.sciencedirect.com/science/article/pii/S0924271620300149',\n  'Research article'],\n 'title-S1568494621009066': ['https://www.sciencedirect.com/science/article/pii/S1568494621009066',\n  'Research article'],\n 'title-S1569843222000875': ['https://www.sciencedirect.com/science/article/pii/S1569843222000875',\n  'Research article'],\n 'title-S1574954122003569': ['https://www.sciencedirect.com/science/article/pii/S1574954122003569',\n  'Research article'],\n 'title-S2405896322027525': ['https://www.sciencedirect.com/science/article/pii/S2405896322027525',\n  'Research article'],\n 'title-S221053792200172X': ['https://www.sciencedirect.com/science/article/pii/S221053792200172X',\n  'Research article'],\n 'title-S2667393222000138': ['https://www.sciencedirect.com/science/article/pii/S2667393222000138',\n  'Research article'],\n 'title-S0924271622003082': ['https://www.sciencedirect.com/science/article/pii/S0924271622003082',\n  'Research article'],\n 'title-S0303243421000489': ['https://www.sciencedirect.com/science/article/pii/S0303243421000489',\n  'Research article'],\n 'title-S0924271622001198': ['https://www.sciencedirect.com/science/article/pii/S0924271622001198',\n  'Research article'],\n 'title-S0925231222000054': ['https://www.sciencedirect.com/science/article/pii/S0925231222000054',\n  'Research article'],\n 'title-S0924271622001940': ['https://www.sciencedirect.com/science/article/pii/S0924271622001940',\n  'Research article'],\n 'title-S0924271623000461': ['https://www.sciencedirect.com/science/article/pii/S0924271623000461',\n  'Research article'],\n 'title-S0924271622000557': ['https://www.sciencedirect.com/science/article/pii/S0924271622000557',\n  'Research article'],\n 'title-S2405896323003105': ['https://www.sciencedirect.com/science/article/pii/S2405896323003105',\n  'Research article'],\n 'title-S1361841522001359': ['https://www.sciencedirect.com/science/article/pii/S1361841522001359',\n  'Research article'],\n 'title-S156984322200334X': ['https://www.sciencedirect.com/science/article/pii/S156984322200334X',\n  'Research article'],\n 'title-S0031320322001984': ['https://www.sciencedirect.com/science/article/pii/S0031320322001984',\n  'Research article'],\n 'title-S0924271620301295': ['https://www.sciencedirect.com/science/article/pii/S0924271620301295',\n  'Research article'],\n 'title-S0924271623000849': ['https://www.sciencedirect.com/science/article/pii/S0924271623000849',\n  'Research article'],\n 'title-S1877050921016483': ['https://www.sciencedirect.com/science/article/pii/S1877050921016483',\n  'Research article'],\n 'title-S0034425723001074': ['https://www.sciencedirect.com/science/article/pii/S0034425723001074',\n  'Research article'],\n 'title-S0341816221000485': ['https://www.sciencedirect.com/science/article/pii/S0341816221000485',\n  'Research article'],\n 'title-S092427162100174X': ['https://www.sciencedirect.com/science/article/pii/S092427162100174X',\n  'Research article'],\n 'title-S2667393221000016': ['https://www.sciencedirect.com/science/article/pii/S2667393221000016',\n  'Research article'],\n 'title-S0034425722003248': ['https://www.sciencedirect.com/science/article/pii/S0034425722003248',\n  'Research article'],\n 'title-S0923596523000462': ['https://www.sciencedirect.com/science/article/pii/S0923596523000462',\n  'Research article'],\n 'title-S030324342100218X': ['https://www.sciencedirect.com/science/article/pii/S030324342100218X',\n  'Research article'],\n 'title-S0924271620300290': ['https://www.sciencedirect.com/science/article/pii/S0924271620300290',\n  'Research article'],\n 'title-S0031320322001947': ['https://www.sciencedirect.com/science/article/pii/S0031320322001947',\n  'Research article'],\n 'title-S1569843222002588': ['https://www.sciencedirect.com/science/article/pii/S1569843222002588',\n  'Research article'],\n 'title-S0924271621001192': ['https://www.sciencedirect.com/science/article/pii/S0924271621001192',\n  'Research article'],\n 'title-S0924271622002933': ['https://www.sciencedirect.com/science/article/pii/S0924271622002933',\n  'Research article'],\n 'title-S0924271620302938': ['https://www.sciencedirect.com/science/article/pii/S0924271620302938',\n  'Research article'],\n 'title-S1574954121001618': ['https://www.sciencedirect.com/science/article/pii/S1574954121001618',\n  'Research article'],\n 'title-S092658052031089X': ['https://www.sciencedirect.com/science/article/pii/S092658052031089X',\n  'Research article'],\n 'title-S0303243421002646': ['https://www.sciencedirect.com/science/article/pii/S0303243421002646',\n  'Research article'],\n 'title-S0303243421002981': ['https://www.sciencedirect.com/science/article/pii/S0303243421002981',\n  'Research article'],\n 'title-S0924271621002306': ['https://www.sciencedirect.com/science/article/pii/S0924271621002306',\n  'Research article'],\n 'title-S2405896322005055': ['https://www.sciencedirect.com/science/article/pii/S2405896322005055',\n  'Research article'],\n 'title-S1569843222002758': ['https://www.sciencedirect.com/science/article/pii/S1569843222002758',\n  'Research article'],\n 'title-S0924271621001787': ['https://www.sciencedirect.com/science/article/pii/S0924271621001787',\n  'Research article'],\n 'title-S2095633921000976': ['https://www.sciencedirect.com/science/article/pii/S2095633921000976',\n  'Research article'],\n 'title-S1047320321000870': ['https://www.sciencedirect.com/science/article/pii/S1047320321000870',\n  'Research article'],\n 'title-S0140366419313118': ['https://www.sciencedirect.com/science/article/pii/S0140366419313118',\n  'Research article'],\n 'title-S0924271623000977': ['https://www.sciencedirect.com/science/article/pii/S0924271623000977',\n  'Research article'],\n 'title-S0924271621002914': ['https://www.sciencedirect.com/science/article/pii/S0924271621002914',\n  'Research article'],\n 'title-S0924271622001460': ['https://www.sciencedirect.com/science/article/pii/S0924271622001460',\n  'Research article'],\n 'title-S1746809422004992': ['https://www.sciencedirect.com/science/article/pii/S1746809422004992',\n  'Research article'],\n 'title-S030324342100204X': ['https://www.sciencedirect.com/science/article/pii/S030324342100204X',\n  'Research article'],\n 'title-S1470160X22009438': ['https://www.sciencedirect.com/science/article/pii/S1470160X22009438',\n  'Research article'],\n 'title-S0924271622002416': ['https://www.sciencedirect.com/science/article/pii/S0924271622002416',\n  'Research article'],\n 'title-S1568494620302234': ['https://www.sciencedirect.com/science/article/pii/S1568494620302234',\n  'Research article'],\n 'title-S0303243419311456': ['https://www.sciencedirect.com/science/article/pii/S0303243419311456',\n  'Research article'],\n 'title-S0303243421002178': ['https://www.sciencedirect.com/science/article/pii/S0303243421002178',\n  'Research article'],\n 'title-S0924271619301741': ['https://www.sciencedirect.com/science/article/pii/S0924271619301741',\n  'Research article'],\n 'title-S0168169922007864': ['https://www.sciencedirect.com/science/article/pii/S0168169922007864',\n  'Research article'],\n 'title-S003132032200499X': ['https://www.sciencedirect.com/science/article/pii/S003132032200499X',\n  'Research article'],\n 'title-S0034425719302159': ['https://www.sciencedirect.com/science/article/pii/S0034425719302159',\n  'Research article'],\n 'title-S0303243421003688': ['https://www.sciencedirect.com/science/article/pii/S0303243421003688',\n  'Research article'],\n 'title-S1877050921014447': ['https://www.sciencedirect.com/science/article/pii/S1877050921014447',\n  'Research article'],\n 'title-S092523121930181X': ['https://www.sciencedirect.com/science/article/pii/S092523121930181X',\n  'Research article'],\n 'title-S1569843222002734': ['https://www.sciencedirect.com/science/article/pii/S1569843222002734',\n  'Research article'],\n 'title-S0168169923000777': ['https://www.sciencedirect.com/science/article/pii/S0168169923000777',\n  'Research article'],\n 'title-S0168169920301605': ['https://www.sciencedirect.com/science/article/pii/S0168169920301605',\n  'Research article'],\n 'title-S0031320321002508': ['https://www.sciencedirect.com/science/article/pii/S0031320321002508',\n  'Research article'],\n 'title-S0303243421000556': ['https://www.sciencedirect.com/science/article/pii/S0303243421000556',\n  'Research article']}"
     },
     "execution_count": 6,
     "metadata": {},
     "output_type": "execute_result"
    }
   ],
   "source": [
    "link_list"
   ],
   "metadata": {
    "collapsed": false
   }
  }
 ],
 "metadata": {
  "kernelspec": {
   "display_name": "Python 3",
   "language": "python",
   "name": "python3"
  },
  "language_info": {
   "codemirror_mode": {
    "name": "ipython",
    "version": 2
   },
   "file_extension": ".py",
   "mimetype": "text/x-python",
   "name": "python",
   "nbconvert_exporter": "python",
   "pygments_lexer": "ipython2",
   "version": "2.7.6"
  }
 },
 "nbformat": 4,
 "nbformat_minor": 0
}
