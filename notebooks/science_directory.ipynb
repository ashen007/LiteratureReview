{
 "cells": [
  {
   "cell_type": "code",
   "execution_count": 1,
   "metadata": {
    "collapsed": true
   },
   "outputs": [],
   "source": [
    "import time\n",
    "import numpy as np\n",
    "from selenium import webdriver\n",
    "from selenium.webdriver.common.keys import Keys\n",
    "from selenium.webdriver.support import expected_conditions as EC\n",
    "from selenium.webdriver.chrome.options import Options\n",
    "from selenium.webdriver.common.by import By\n",
    "from selenium.webdriver.support.wait import WebDriverWait\n",
    "from selenium_stealth import stealth"
   ]
  },
  {
   "cell_type": "code",
   "execution_count": null,
   "outputs": [],
   "source": [
    "class ScienceDirect:\n",
    "    options = Options()\n",
    "    options.binary_location = 'C:\\\\Program Files\\\\Google\\\\Chrome\\\\Application\\\\chrome.exe'\n",
    "\n",
    "    def __init__(self, start, end, search_terms):\n",
    "        self.driver = webdriver.Chrome(chrome_options=self.options,\n",
    "                                       executable_path='D:\\\\chromedriver.exe')\n",
    "        self.origin = \"https://www.sciencedirect.com/search\"\n",
    "        self.date_filter = f\"?date={start}-{end}\"\n",
    "        self.results_in_a_page = \"&show=100\"\n",
    "        self.query_text = self.encode_search_terms_into_query(search_terms)\n",
    "        self.article_type = \"&articleTypes=FLA\"\n",
    "\n",
    "        self.driver.get(self.construct_full_link())\n",
    "        time.sleep(3)\n",
    "\n",
    "    def construct_full_link(self):\n",
    "        return ''.join([self.origin,\n",
    "                        self.date_filter,\n",
    "                        self.query_text,\n",
    "                        self.results_in_a_page,\n",
    "                        self.article_type])\n",
    "\n",
    "    @staticmethod\n",
    "    def encode_search_terms_into_query(keywords):\n",
    "        encode = keywords.replace(' ', \"%20\")\n",
    "        encode = encode.replace(';', \"%3B\")\n",
    "        encode = encode.replace(',', \"%2C\")\n",
    "\n",
    "        return f\"&qs={encode}\"\n",
    "\n",
    "    def get_total_result_count(self):\n",
    "        tot_results = int(self.driver.find_element(By.CLASS_NAME,\n",
    "                                                   value=\"search-body-results-text\").text.split(' ')[0])\n",
    "\n",
    "        return tot_results\n",
    "\n",
    "    def get_links_list(self):\n",
    "        return\n",
    "\n",
    "    def to_csv(self):\n",
    "        return"
   ],
   "metadata": {
    "collapsed": false
   }
  },
  {
   "cell_type": "code",
   "execution_count": 2,
   "outputs": [],
   "source": [
    "options = webdriver.ChromeOptions()\n",
    "options.add_argument(\"--headless\")\n",
    "options.add_experimental_option(\"excludeSwitches\", [\"enable-automation\"])\n",
    "options.add_experimental_option('useAutomationExtension', False)\n",
    "options.binary_location = 'C:\\\\Program Files\\\\Google\\\\Chrome\\\\Application\\\\chrome.exe'"
   ],
   "metadata": {
    "collapsed": false
   }
  },
  {
   "cell_type": "code",
   "execution_count": 3,
   "outputs": [
    {
     "name": "stderr",
     "output_type": "stream",
     "text": [
      "C:\\Users\\ashen\\AppData\\Local\\Temp\\ipykernel_15308\\3065065323.py:1: DeprecationWarning: executable_path has been deprecated, please pass in a Service object\n",
      "  driver = webdriver.Chrome(chrome_options=options,\n",
      "C:\\Users\\ashen\\AppData\\Local\\Temp\\ipykernel_15308\\3065065323.py:1: DeprecationWarning: use options instead of chrome_options\n",
      "  driver = webdriver.Chrome(chrome_options=options,\n"
     ]
    }
   ],
   "source": [
    "driver = webdriver.Chrome(chrome_options=options,\n",
    "                          executable_path='D:\\\\chromedriver.exe')"
   ],
   "metadata": {
    "collapsed": false
   }
  },
  {
   "cell_type": "code",
   "execution_count": 4,
   "outputs": [],
   "source": [
    "date_filter = \"?date=2015-2023\"\n",
    "results_in_page = \"&show=100\"\n",
    "query_text = \"&qs=semantic%20segmentation%3Bu-net%3Bremote%20sensing%3Bforest%3B\"\n",
    "article_type = \"&articleTypes=FLA\""
   ],
   "metadata": {
    "collapsed": false
   }
  },
  {
   "cell_type": "code",
   "execution_count": 5,
   "outputs": [],
   "source": [
    "stealth(driver,\n",
    "        languages=[\"en-US\", \"en\"],\n",
    "        vendor=\"Google Inc.\",\n",
    "        platform=\"Win32\",\n",
    "        webgl_vendor=\"Intel Inc.\",\n",
    "        renderer=\"Intel Iris OpenGL Engine\",\n",
    "        fix_hairline=True,\n",
    "        )\n",
    "origin = \"https://www.sciencedirect.com/search\"\n",
    "\n",
    "link = ''.join([origin, date_filter, query_text, results_in_page, article_type])\n",
    "driver.get(link)"
   ],
   "metadata": {
    "collapsed": false
   }
  },
  {
   "cell_type": "code",
   "execution_count": 6,
   "outputs": [
    {
     "name": "stdout",
     "output_type": "stream",
     "text": [
      "3.0\n"
     ]
    }
   ],
   "source": [
    "result_count = int(driver.find_element(By.CLASS_NAME, value=\"search-body-results-text\").text.split(' ')[0])\n",
    "link_list = {}\n",
    "i = result_count / 100\n",
    "\n",
    "print(i)"
   ],
   "metadata": {
    "collapsed": false
   }
  },
  {
   "cell_type": "code",
   "execution_count": 7,
   "outputs": [
    {
     "name": "stderr",
     "output_type": "stream",
     "text": [
      "C:\\Users\\ashen\\AppData\\Local\\Temp\\ipykernel_15308\\359672829.py:5: DeprecationWarning: executable_path has been deprecated, please pass in a Service object\n",
      "  driver = webdriver.Chrome(chrome_options=options,\n",
      "C:\\Users\\ashen\\AppData\\Local\\Temp\\ipykernel_15308\\359672829.py:5: DeprecationWarning: use options instead of chrome_options\n",
      "  driver = webdriver.Chrome(chrome_options=options,\n"
     ]
    },
    {
     "name": "stdout",
     "output_type": "stream",
     "text": [
      "https://www.sciencedirect.com/search?date=2015-2023&qs=semantic%20segmentation%3Bu-net%3Bremote%20sensing%3Bforest%3B&show=100&offset=0&articleTypes=FLA\n",
      "https://www.sciencedirect.com/search?date=2015-2023&qs=semantic%20segmentation%3Bu-net%3Bremote%20sensing%3Bforest%3B&show=100&offset=100&articleTypes=FLA\n",
      "https://www.sciencedirect.com/search?date=2015-2023&qs=semantic%20segmentation%3Bu-net%3Bremote%20sensing%3Bforest%3B&show=100&offset=200&articleTypes=FLA\n"
     ]
    }
   ],
   "source": [
    "if i > 1:\n",
    "    p_count = np.round(i, 0)\n",
    "\n",
    "    for j in range(0, int(p_count)):\n",
    "        driver = webdriver.Chrome(chrome_options=options,\n",
    "                          executable_path='D:\\\\chromedriver.exe')\n",
    "        stealth(driver,\n",
    "                languages=[\"en-US\", \"en\"],\n",
    "                vendor=\"Google Inc.\",\n",
    "                platform=\"Win32\",\n",
    "                webgl_vendor=\"Intel Inc.\",\n",
    "                renderer=\"Intel Iris OpenGL Engine\",\n",
    "                fix_hairline=True,\n",
    "                )\n",
    "\n",
    "        offset = f\"&offset={j * 100}\"\n",
    "        link = ''.join([origin, date_filter, query_text, results_in_page, offset, article_type])\n",
    "        driver.get(link)\n",
    "        print(link)\n",
    "        time.sleep(np.random.normal(5, 0.4))\n",
    "\n",
    "        for title, article in zip(driver.find_elements(By.CLASS_NAME, value=\"result-list-title-link\"),\n",
    "                                  driver.find_elements(By.CLASS_NAME, value=\"article-type\")):\n",
    "            link_list[title.get_attribute('id')] = [title.get_attribute('href'), article.text]\n",
    "\n",
    "        driver.close()\n",
    "\n",
    "        time.sleep(np.random.uniform(4, 6))"
   ],
   "metadata": {
    "collapsed": false
   }
  },
  {
   "cell_type": "code",
   "execution_count": 8,
   "outputs": [
    {
     "data": {
      "text/plain": "{'title-S1474034621001336': ['https://www.sciencedirect.com/science/article/pii/S1474034621001336',\n  'Research article'],\n 'title-S0924271623000795': ['https://www.sciencedirect.com/science/article/pii/S0924271623000795',\n  'Research article'],\n 'title-S0034425719301294': ['https://www.sciencedirect.com/science/article/pii/S0034425719301294',\n  'Research article'],\n 'title-S0924271620300381': ['https://www.sciencedirect.com/science/article/pii/S0924271620300381',\n  'Research article'],\n 'title-S0034425721002017': ['https://www.sciencedirect.com/science/article/pii/S0034425721002017',\n  'Research article'],\n 'title-S0034425721000407': ['https://www.sciencedirect.com/science/article/pii/S0034425721000407',\n  'Research article'],\n 'title-S0924271621002227': ['https://www.sciencedirect.com/science/article/pii/S0924271621002227',\n  'Research article'],\n 'title-S2352938519301831': ['https://www.sciencedirect.com/science/article/pii/S2352938519301831',\n  'Research article'],\n 'title-S1569843222000553': ['https://www.sciencedirect.com/science/article/pii/S1569843222000553',\n  'Research article'],\n 'title-S2352938522002063': ['https://www.sciencedirect.com/science/article/pii/S2352938522002063',\n  'Research article'],\n 'title-S266739322100003X': ['https://www.sciencedirect.com/science/article/pii/S266739322100003X',\n  'Research article'],\n 'title-S1877050922012297': ['https://www.sciencedirect.com/science/article/pii/S1877050922012297',\n  'Research article'],\n 'title-S0924271622000521': ['https://www.sciencedirect.com/science/article/pii/S0924271622000521',\n  'Research article'],\n 'title-S0169136820311215': ['https://www.sciencedirect.com/science/article/pii/S0169136820311215',\n  'Research article'],\n 'title-S0924271620303142': ['https://www.sciencedirect.com/science/article/pii/S0924271620303142',\n  'Research article'],\n 'title-S0926580522005362': ['https://www.sciencedirect.com/science/article/pii/S0926580522005362',\n  'Research article'],\n 'title-S1877050923001242': ['https://www.sciencedirect.com/science/article/pii/S1877050923001242',\n  'Research article'],\n 'title-S0924271623000278': ['https://www.sciencedirect.com/science/article/pii/S0924271623000278',\n  'Research article'],\n 'title-S0048969720349743': ['https://www.sciencedirect.com/science/article/pii/S0048969720349743',\n  'Research article'],\n 'title-S0924271622002283': ['https://www.sciencedirect.com/science/article/pii/S0924271622002283',\n  'Research article'],\n 'title-S092427162200017X': ['https://www.sciencedirect.com/science/article/pii/S092427162200017X',\n  'Research article'],\n 'title-S0045790622007510': ['https://www.sciencedirect.com/science/article/pii/S0045790622007510',\n  'Research article'],\n 'title-S0303243422000034': ['https://www.sciencedirect.com/science/article/pii/S0303243422000034',\n  'Research article'],\n 'title-S0034425722003133': ['https://www.sciencedirect.com/science/article/pii/S0034425722003133',\n  'Research article'],\n 'title-S0924271620301921': ['https://www.sciencedirect.com/science/article/pii/S0924271620301921',\n  'Research article'],\n 'title-S092427162100160X': ['https://www.sciencedirect.com/science/article/pii/S092427162100160X',\n  'Research article'],\n 'title-S0924271622003203': ['https://www.sciencedirect.com/science/article/pii/S0924271622003203',\n  'Research article'],\n 'title-S0048969722007549': ['https://www.sciencedirect.com/science/article/pii/S0048969722007549',\n  'Research article'],\n 'title-S1364815221002280': ['https://www.sciencedirect.com/science/article/pii/S1364815221002280',\n  'Research article'],\n 'title-S0263224123005250': ['https://www.sciencedirect.com/science/article/pii/S0263224123005250',\n  'Research article'],\n 'title-S1877050923001990': ['https://www.sciencedirect.com/science/article/pii/S1877050923001990',\n  'Research article'],\n 'title-S0924271622000168': ['https://www.sciencedirect.com/science/article/pii/S0924271622000168',\n  'Research article'],\n 'title-S0034425722003078': ['https://www.sciencedirect.com/science/article/pii/S0034425722003078',\n  'Research article'],\n 'title-S0022169420305527': ['https://www.sciencedirect.com/science/article/pii/S0022169420305527',\n  'Research article'],\n 'title-S1470160X21002272': ['https://www.sciencedirect.com/science/article/pii/S1470160X21002272',\n  'Research article'],\n 'title-S0925231221003568': ['https://www.sciencedirect.com/science/article/pii/S0925231221003568',\n  'Research article'],\n 'title-S092523122200039X': ['https://www.sciencedirect.com/science/article/pii/S092523122200039X',\n  'Research article'],\n 'title-S240584402102257X': ['https://www.sciencedirect.com/science/article/pii/S240584402102257X',\n  'Research article'],\n 'title-S0924271621001970': ['https://www.sciencedirect.com/science/article/pii/S0924271621001970',\n  'Research article'],\n 'title-S0303243421002415': ['https://www.sciencedirect.com/science/article/pii/S0303243421002415',\n  'Research article'],\n 'title-S156984322200351X': ['https://www.sciencedirect.com/science/article/pii/S156984322200351X',\n  'Research article'],\n 'title-S0925231223003090': ['https://www.sciencedirect.com/science/article/pii/S0925231223003090',\n  'Research article'],\n 'title-S0924271621002537': ['https://www.sciencedirect.com/science/article/pii/S0924271621002537',\n  'Research article'],\n 'title-S0924271621000083': ['https://www.sciencedirect.com/science/article/pii/S0924271621000083',\n  'Research article'],\n 'title-S0306261920314616': ['https://www.sciencedirect.com/science/article/pii/S0306261920314616',\n  'Research article'],\n 'title-S2405896319304331': ['https://www.sciencedirect.com/science/article/pii/S2405896319304331',\n  'Research article'],\n 'title-S0957417421009386': ['https://www.sciencedirect.com/science/article/pii/S0957417421009386',\n  'Research article'],\n 'title-S1569843223000158': ['https://www.sciencedirect.com/science/article/pii/S1569843223000158',\n  'Research article'],\n 'title-S0043135422011538': ['https://www.sciencedirect.com/science/article/pii/S0043135422011538',\n  'Research article'],\n 'title-S0167739X20330144': ['https://www.sciencedirect.com/science/article/pii/S0167739X20330144',\n  'Research article'],\n 'title-S2666827022000913': ['https://www.sciencedirect.com/science/article/pii/S2666827022000913',\n  'Research article'],\n 'title-S2542660523000434': ['https://www.sciencedirect.com/science/article/pii/S2542660523000434',\n  'Research article'],\n 'title-S0034425722004771': ['https://www.sciencedirect.com/science/article/pii/S0034425722004771',\n  'Research article'],\n 'title-S0950705120305748': ['https://www.sciencedirect.com/science/article/pii/S0950705120305748',\n  'Research article'],\n 'title-S0168169922005233': ['https://www.sciencedirect.com/science/article/pii/S0168169922005233',\n  'Research article'],\n 'title-S0360544216309598': ['https://www.sciencedirect.com/science/article/pii/S0360544216309598',\n  'Research article'],\n 'title-S0925231218309536': ['https://www.sciencedirect.com/science/article/pii/S0925231218309536',\n  'Research article'],\n 'title-S0924271621000307': ['https://www.sciencedirect.com/science/article/pii/S0924271621000307',\n  'Research article'],\n 'title-S0141938223000240': ['https://www.sciencedirect.com/science/article/pii/S0141938223000240',\n  'Research article'],\n 'title-S092427162100126X': ['https://www.sciencedirect.com/science/article/pii/S092427162100126X',\n  'Research article'],\n 'title-S0168169922002551': ['https://www.sciencedirect.com/science/article/pii/S0168169922002551',\n  'Research article'],\n 'title-S1474034620301403': ['https://www.sciencedirect.com/science/article/pii/S1474034620301403',\n  'Research article'],\n 'title-S0924271617303672': ['https://www.sciencedirect.com/science/article/pii/S0924271617303672',\n  'Research article'],\n 'title-S266701002100069X': ['https://www.sciencedirect.com/science/article/pii/S266701002100069X',\n  'Research article'],\n 'title-S1574954122003697': ['https://www.sciencedirect.com/science/article/pii/S1574954122003697',\n  'Research article'],\n 'title-S2666307421000267': ['https://www.sciencedirect.com/science/article/pii/S2666307421000267',\n  'Research article'],\n 'title-S0048969723004345': ['https://www.sciencedirect.com/science/article/pii/S0048969723004345',\n  'Research article'],\n 'title-S0034425721003230': ['https://www.sciencedirect.com/science/article/pii/S0034425721003230',\n  'Research article'],\n 'title-S0020025518305942': ['https://www.sciencedirect.com/science/article/pii/S0020025518305942',\n  'Research article'],\n 'title-S0893608021004019': ['https://www.sciencedirect.com/science/article/pii/S0893608021004019',\n  'Research article'],\n 'title-S0886779820306313': ['https://www.sciencedirect.com/science/article/pii/S0886779820306313',\n  'Research article'],\n 'title-S0924271622002313': ['https://www.sciencedirect.com/science/article/pii/S0924271622002313',\n  'Research article'],\n 'title-S156849462030449X': ['https://www.sciencedirect.com/science/article/pii/S156849462030449X',\n  'Research article'],\n 'title-S0031320321003897': ['https://www.sciencedirect.com/science/article/pii/S0031320321003897',\n  'Research article'],\n 'title-S0034425722001912': ['https://www.sciencedirect.com/science/article/pii/S0034425722001912',\n  'Research article'],\n 'title-S1876380421600010': ['https://www.sciencedirect.com/science/article/pii/S1876380421600010',\n  'Research article'],\n 'title-S1047320319301713': ['https://www.sciencedirect.com/science/article/pii/S1047320319301713',\n  'Research article'],\n 'title-S026322412200673X': ['https://www.sciencedirect.com/science/article/pii/S026322412200673X',\n  'Research article'],\n 'title-S1877050921018329': ['https://www.sciencedirect.com/science/article/pii/S1877050921018329',\n  'Research article'],\n 'title-S1532046421000800': ['https://www.sciencedirect.com/science/article/pii/S1532046421000800',\n  'Research article'],\n 'title-S0924271619301613': ['https://www.sciencedirect.com/science/article/pii/S0924271619301613',\n  'Research article'],\n 'title-S156625351930377X': ['https://www.sciencedirect.com/science/article/pii/S156625351930377X',\n  'Research article'],\n 'title-S0966692322000266': ['https://www.sciencedirect.com/science/article/pii/S0966692322000266',\n  'Research article'],\n 'title-S0925231221004033': ['https://www.sciencedirect.com/science/article/pii/S0925231221004033',\n  'Research article'],\n 'title-S1361841520301067': ['https://www.sciencedirect.com/science/article/pii/S1361841520301067',\n  'Research article'],\n 'title-S0169204621001304': ['https://www.sciencedirect.com/science/article/pii/S0169204621001304',\n  'Research article'],\n 'title-S0924271621000927': ['https://www.sciencedirect.com/science/article/pii/S0924271621000927',\n  'Research article'],\n 'title-S0303243421001379': ['https://www.sciencedirect.com/science/article/pii/S0303243421001379',\n  'Research article'],\n 'title-S0957417417305195': ['https://www.sciencedirect.com/science/article/pii/S0957417417305195',\n  'Research article'],\n 'title-S0924271621001830': ['https://www.sciencedirect.com/science/article/pii/S0924271621001830',\n  'Research article'],\n 'title-S0034425722003406': ['https://www.sciencedirect.com/science/article/pii/S0034425722003406',\n  'Research article'],\n 'title-S092427162300031X': ['https://www.sciencedirect.com/science/article/pii/S092427162300031X',\n  'Research article'],\n 'title-S2214140521002711': ['https://www.sciencedirect.com/science/article/pii/S2214140521002711',\n  'Research article'],\n 'title-S0303243420308849': ['https://www.sciencedirect.com/science/article/pii/S0303243420308849',\n  'Research article'],\n 'title-S0360544223003742': ['https://www.sciencedirect.com/science/article/pii/S0360544223003742',\n  'Research article'],\n 'title-S0957417420306047': ['https://www.sciencedirect.com/science/article/pii/S0957417420306047',\n  'Research article'],\n 'title-S2096720922000410': ['https://www.sciencedirect.com/science/article/pii/S2096720922000410',\n  'Research article'],\n 'title-S095070512030071X': ['https://www.sciencedirect.com/science/article/pii/S095070512030071X',\n  'Research article'],\n 'title-S0167739X18324944': ['https://www.sciencedirect.com/science/article/pii/S0167739X18324944',\n  'Research article'],\n 'title-S0924271622001605': ['https://www.sciencedirect.com/science/article/pii/S0924271622001605',\n  'Research article']}"
     },
     "execution_count": 8,
     "metadata": {},
     "output_type": "execute_result"
    }
   ],
   "source": [
    "link_list"
   ],
   "metadata": {
    "collapsed": false
   }
  }
 ],
 "metadata": {
  "kernelspec": {
   "display_name": "Python 3",
   "language": "python",
   "name": "python3"
  },
  "language_info": {
   "codemirror_mode": {
    "name": "ipython",
    "version": 2
   },
   "file_extension": ".py",
   "mimetype": "text/x-python",
   "name": "python",
   "nbconvert_exporter": "python",
   "pygments_lexer": "ipython2",
   "version": "2.7.6"
  }
 },
 "nbformat": 4,
 "nbformat_minor": 0
}
